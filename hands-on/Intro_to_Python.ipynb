{
 "cells": [
  {
   "cell_type": "markdown",
   "metadata": {},
   "source": [
    "## Introduction to Python\n",
    "\n",
    "### What is Python??\n",
    "<ol style=\"list-style-type:circle\">\n",
    "    <li>Python is an interpreted, high-level programming language</li>\n",
    "    <li>It is a scripting language, ie, it is basically a language where instructions are written for a run time environment</li>\n",
    "</ol>\n",
    "\n",
    "### Why Python??\n",
    "A few important reasons are:\n",
    "<ul style=\"list-style-type:circle\">\n",
    "    <li>Python is a high level language that consists of simple syntactical instructions, due to which it has very good readability and is known as “Executable Pseudo Code”.</li>\n",
    "    <li>It supports multiple programming paradigms, ie,  modular,OOP etc.</li>\n",
    "    <li>Python has a very rich set of libraries to aid in programming. It also has a huge community who are ready to help fellow programmers and help in making the language much easier to use.</li>\n",
    "    <li>Python is open-source.</li>\n",
    "\n",
    "</ul>\n",
    "    \n",
    "\n",
    "### Why use python for DSP\n",
    "\n",
    "<ul style=\"list-style-type: circle\">\n",
    "    <li>Due to it’s popularity, basic python is already known and effective libraries need to be imported for signal processing</li>\n",
    "    <li>Rich signal processing libraries have been developed that have been highly optimized and are efficient to use</li>\n",
    "    <li>Provides a MATLAB type implementation of DSP</li>\n",
    "\n",
    "</ul>\n",
    "\n"
   ]
  },
  {
   "cell_type": "markdown",
   "metadata": {},
   "source": [
    "## Python Basics"
   ]
  },
  {
   "cell_type": "code",
   "execution_count": 1,
   "metadata": {},
   "outputs": [
    {
     "name": "stdout",
     "output_type": "stream",
     "text": [
      "Hello World\n"
     ]
    }
   ],
   "source": [
    "# \"Hello World Program\"\n",
    "\n",
    "print(\"Hello World\")"
   ]
  },
  {
   "cell_type": "code",
   "execution_count": 2,
   "metadata": {},
   "outputs": [
    {
     "name": "stdout",
     "output_type": "stream",
     "text": [
      "hello\n"
     ]
    }
   ],
   "source": [
    "# Create single line comments using \"#\" \n",
    "\"\"\"\n",
    "And Create multi-line comments using three double quote characters before and after the data to be\n",
    "commented\n",
    "\n",
    "\"\"\"\n",
    "\n",
    "print(\"hello\")"
   ]
  },
  {
   "cell_type": "markdown",
   "metadata": {},
   "source": [
    "## Concept of Variables in python\n",
    "\n",
    "Python variables do not need explicit declaration to reserve memory space. The declaration happens automatically when you assign a value to a variable. The equal sign (=) is used to assign values to variables.\n",
    "\n",
    "The operand to the left of the = operator is the name of the variable and the operand to the right of the = operator is the value stored in the variable.\n",
    "\n",
    "### Standard Data Types\n",
    "\n",
    " <ul style=\"list-style-type:square\">\n",
    "  <li>Numbers</li>\n",
    "  <li>String</li>\n",
    "  <li>List</li>\n",
    "  <li>Tuple</li>\n",
    "  <li>Dictionary</li>\n",
    "</ul> \n",
    "\n",
    "### Python Numbers\n",
    "\n",
    "Number data types store numeric values. Number objects are created when you assign a value to them.\n",
    "\n",
    "Python supports three different numerical types \n",
    "\n",
    " <ul style=\"list-style-type:square\">\n",
    "  <li>int (signed integers)</li>\n",
    "  <li>float (floating point real values)</li>\n",
    "  <li>complex (complex numbers)</li>\n",
    "</ul> "
   ]
  },
  {
   "cell_type": "code",
   "execution_count": 3,
   "metadata": {},
   "outputs": [
    {
     "name": "stdout",
     "output_type": "stream",
     "text": [
      "Integer:  10\n",
      "Floating point:  15.73\n",
      "Complex:  (1-5.6j)\n"
     ]
    }
   ],
   "source": [
    "# create a variable to hold an integer value...\n",
    "\n",
    "i=10\n",
    "f=15.73\n",
    "c=1-5.6j\n",
    "\n",
    "print(\"Integer: \",i)\n",
    "print(\"Floating point: \",f)\n",
    "print(\"Complex: \",c)"
   ]
  },
  {
   "cell_type": "markdown",
   "metadata": {},
   "source": [
    "### Characters and Strings...\n",
    "Assign characters to variables using single quotes ''\n",
    "Assign strings to varaibles using double quotes \"\""
   ]
  },
  {
   "cell_type": "code",
   "execution_count": 4,
   "metadata": {},
   "outputs": [
    {
     "name": "stdout",
     "output_type": "stream",
     "text": [
      "/\n",
      "python\n"
     ]
    }
   ],
   "source": [
    "c='/'   # create a variable to hold a character\n",
    "s=\"python\"\n",
    "\n",
    "print(c)\n",
    "print(s)"
   ]
  },
  {
   "cell_type": "markdown",
   "metadata": {},
   "source": [
    "### Python lists\n",
    "\n",
    "A list contains items separated by commas and enclosed within square brackets ([]).\n",
    "\n",
    "The values stored in a list can be accessed using the slice operator ([ ] and [:]) with indexes starting at 0 in the beginning of the list and working their way to end -1.\n",
    "\n",
    "The plus (+) sign is the list concatenation operator, and the asterisk (*) is the repetition operator."
   ]
  },
  {
   "cell_type": "code",
   "execution_count": 5,
   "metadata": {},
   "outputs": [
    {
     "name": "stdout",
     "output_type": "stream",
     "text": [
      "['abcd', 786, 2.23, 'john', 70.2]\n",
      "abcd\n",
      "[786, 2.23]\n",
      "[2.23, 'john', 70.2]\n",
      "[123, 'john', 123, 'john']\n",
      "['abcd', 786, 2.23, 'john', 70.2, 123, 'john']\n",
      "['abcd', 786, 2.23, 'john', 70.2, [0, 0, 0, 0]]\n"
     ]
    }
   ],
   "source": [
    "list = [ 'abcd', 786 , 2.23, 'john', 70.2 ]\n",
    "tinylist = [123, 'john']\n",
    "zeros=[0, 0, 0, 0]\n",
    "print (list)          # Prints complete list\n",
    "print (list[0])       # Prints first element of the list\n",
    "print (list[1:3])     # Prints elements starting from 2nd till 3rd \n",
    "print (list[2:])      # Prints elements starting from 3rd element\n",
    "print (tinylist * 2)  # Prints list two times\n",
    "print (list + tinylist) # Prints concatenated lists\n",
    "\n",
    "list.append(zeros)\n",
    "print(list)"
   ]
  },
  {
   "cell_type": "markdown",
   "metadata": {},
   "source": [
    "# Decision Making and Loops\n",
    "\n",
    " <ul>\n",
    "  <li>Branch Statements</li>\n",
    "  <ul>\n",
    "    <li>Conditional execution :  if </li>\n",
    "    <li>Two way decision : if-else </li>\n",
    "    <li>Multi way decision : if-elif-if </li>\n",
    "  </ul> \n",
    "  <li>Loop statements</li>\n",
    "  <ul>\n",
    "    <li>Range based :  for </li>\n",
    "    <li>Decision based  : while </li>\n",
    "  </ul> \n",
    "</ul> "
   ]
  },
  {
   "cell_type": "code",
   "execution_count": 6,
   "metadata": {},
   "outputs": [
    {
     "name": "stdout",
     "output_type": "stream",
     "text": [
      "What is the temperature ? 22\n"
     ]
    }
   ],
   "source": [
    "## Conditional Execution\n",
    "\n",
    "temp = int(input(\"What is the temperature ? \"));\n",
    "if(temp > 35):\n",
    "    print(\" Too hot !!\")"
   ]
  },
  {
   "cell_type": "code",
   "execution_count": 7,
   "metadata": {},
   "outputs": [
    {
     "name": "stdout",
     "output_type": "stream",
     "text": [
      "Enter a number: 22\n",
      "Greater than or equal to 10\n"
     ]
    }
   ],
   "source": [
    "### Two way decisions \n",
    "\n",
    "i=int(input(\"Enter a number: \"))\n",
    "\n",
    "if(i>=10):\n",
    "    print(\"Greater than or equal to 10\")\n",
    "else:\n",
    "    print(\"Less than 10\")"
   ]
  },
  {
   "cell_type": "code",
   "execution_count": 8,
   "metadata": {},
   "outputs": [
    {
     "name": "stdout",
     "output_type": "stream",
     "text": [
      "30\n"
     ]
    }
   ],
   "source": [
    "### Multi way decisions\n",
    "\n",
    "x1=10\n",
    "x2=20\n",
    "x3=30\n",
    "\n",
    "if(x1 > x2  and x1 > x3 ):\n",
    "    mx = x1; \n",
    "elif ( x2 >= x1 and x2 >= x3 ):\n",
    "    mx = x2; \n",
    "else:\n",
    "    mx = x3;\n",
    "\n",
    "print(mx)"
   ]
  },
  {
   "cell_type": "markdown",
   "metadata": {},
   "source": [
    "## For Loops\n",
    "Most common loop is the \"for\" loop\n",
    "\n",
    "the indexing is using range function\n",
    "\n",
    "### Example"
   ]
  },
  {
   "cell_type": "code",
   "execution_count": 9,
   "metadata": {},
   "outputs": [
    {
     "name": "stdout",
     "output_type": "stream",
     "text": [
      "0\n",
      "1\n",
      "2\n",
      "3\n",
      "4\n"
     ]
    }
   ],
   "source": [
    "for i in range(5):\n",
    "    print(i);"
   ]
  },
  {
   "cell_type": "markdown",
   "metadata": {},
   "source": [
    "Note that the \"i\" ranges from 0 to 4\n",
    "The last value is never included \n",
    "\n",
    "Starting and ending values can be given with the syntax <br> <b> range(start, end, increment) </b>"
   ]
  },
  {
   "cell_type": "code",
   "execution_count": 10,
   "metadata": {},
   "outputs": [
    {
     "name": "stdout",
     "output_type": "stream",
     "text": [
      "3\n",
      "5\n",
      "7\n",
      "9\n"
     ]
    }
   ],
   "source": [
    "for i in range(3,11,2):\n",
    "    print (i);"
   ]
  },
  {
   "cell_type": "markdown",
   "metadata": {},
   "source": [
    "Float values can be given with arange from numpy"
   ]
  },
  {
   "cell_type": "code",
   "execution_count": 11,
   "metadata": {},
   "outputs": [
    {
     "name": "stdout",
     "output_type": "stream",
     "text": [
      "1.5\n",
      "2.0\n",
      "2.5\n",
      "3.0\n",
      "3.5\n",
      "4.0\n",
      "4.5\n"
     ]
    }
   ],
   "source": [
    "import numpy as np\n",
    "for i in np.arange(1.5,5,0.5):\n",
    "    print(i)"
   ]
  },
  {
   "cell_type": "markdown",
   "metadata": {},
   "source": [
    "## While Loop\n",
    "This constructs repeatedly checks a condition and executes till it is true"
   ]
  },
  {
   "cell_type": "code",
   "execution_count": 12,
   "metadata": {},
   "outputs": [
    {
     "name": "stdout",
     "output_type": "stream",
     "text": [
      "The count is: 0\n",
      "The count is: 1\n",
      "The count is: 2\n",
      "The count is: 3\n",
      "The count is: 4\n",
      "The count is: 5\n",
      "The count is: 6\n",
      "The count is: 7\n",
      "The count is: 8\n",
      "Good bye!\n"
     ]
    }
   ],
   "source": [
    "count = 0\n",
    "while (count < 9):\n",
    "    print('The count is:', count)\n",
    "    count = count + 1\n",
    "\n",
    "print (\"Good bye!\")"
   ]
  },
  {
   "cell_type": "markdown",
   "metadata": {},
   "source": [
    "# Defining Functions\n",
    "\n",
    "\n",
    " <ul>\n",
    "  <li> Defining functions use the <I>def</I> command. </li>\n",
    "  <li> Functions can have arguments and return values  </li>\n",
    "  <li> Invoked by the name of the function </li>\n",
    "</ul> \n",
    "\n",
    "\n",
    "## Simple Function Definition"
   ]
  },
  {
   "cell_type": "code",
   "execution_count": 13,
   "metadata": {},
   "outputs": [],
   "source": [
    "def happy():   # There is a colon after function definition\n",
    "    print(\"Happy Birthday to You!\")  # Function block is indented "
   ]
  },
  {
   "cell_type": "markdown",
   "metadata": {},
   "source": [
    "### Function Call "
   ]
  },
  {
   "cell_type": "code",
   "execution_count": 14,
   "metadata": {},
   "outputs": [
    {
     "name": "stdout",
     "output_type": "stream",
     "text": [
      "Happy Birthday to You!\n"
     ]
    }
   ],
   "source": [
    "happy()"
   ]
  },
  {
   "cell_type": "markdown",
   "metadata": {},
   "source": [
    "## Functions with arguments "
   ]
  },
  {
   "cell_type": "code",
   "execution_count": 15,
   "metadata": {},
   "outputs": [],
   "source": [
    "def square(x):\n",
    "    y = x*x\n",
    "    return y\n",
    "\n",
    "def hbd(name):\n",
    "    print (\"Happy Birthday to \", name)\n",
    "    return\n",
    "    "
   ]
  },
  {
   "cell_type": "code",
   "execution_count": 16,
   "metadata": {},
   "outputs": [
    {
     "name": "stdout",
     "output_type": "stream",
     "text": [
      "3x3 =  9\n",
      " 3 squared twice  81\n",
      " In expression 11\n"
     ]
    }
   ],
   "source": [
    "z = 3; \n",
    "w = square(z); \n",
    "print(\"3x3 = \", w); \n",
    "\n",
    "print (\" 3 squared twice \", square(square(3)))\n",
    "print (\" In expression\", 2+square(3))"
   ]
  },
  {
   "cell_type": "markdown",
   "metadata": {},
   "source": [
    "# NumPy\n",
    "\n",
    "NumPy is a Python package. It stands for 'Numerical Python'. It is a library consisting of multidimensional array objects and a collection of routines for processing of array.\n",
    "\n",
    "\n",
    "## Operations using NumPy\n",
    " Using NumPy, a developer can perform the following operations −\n",
    " \n",
    " <ul style=\"list-style-type:square\">\n",
    "  <li>Mathematical and logical operations on arrays.</li>\n",
    "  <li>Fourier transforms and routines for shape manipulation.</li>\n",
    "  <li>Operations related to linear algebra. NumPy has in-built functions for linear algebra and random number generation.</li>\n",
    "</ul>\n",
    "\n",
    "\n",
    "## The Basics\n",
    "NumPy’s main object is the homogeneous multidimensional array. It is a table of elements (usually numbers), all of the same type, indexed by a tuple of positive integers. In NumPy dimensions are called axes. The number of axes is rank.\n",
    "\n",
    "The more important attributes of an ndarray object are:\n",
    "\n",
    "1. <b>ndarray.ndim:  </b>   \n",
    "the number of axes (dimensions) of the array. \n",
    "2. <b>ndarray.shape:</b>    \n",
    "the dimensions of the array. For a matrix with n rows and m columns, shape will be (n,m).\n",
    "    \n",
    "3. <b>ndarray.size:  </b>   \n",
    "the total number of elements of the array. This is equal to the product of the elements of shape.\n",
    "\n",
    "4. <b>ndarray.dtype:</b>\n",
    "an object describing the type of the elements in the array. \n",
    "    \n",
    "### Example\n"
   ]
  },
  {
   "cell_type": "code",
   "execution_count": 18,
   "metadata": {},
   "outputs": [
    {
     "name": "stdout",
     "output_type": "stream",
     "text": [
      "a =  [ 0  1  2  3  4  5  6  7  8  9 10 11 12 13 14]\n",
      "Number of axes (dimensions) of the array =  1\n",
      "Dimension of the array =  (15,)\n",
      "Total number of elements of the array =  8\n",
      "Type of the elements in the array =  int64\n"
     ]
    }
   ],
   "source": [
    "import numpy as np \n",
    "a = np.arange(15)\n",
    "dim=a.ndim\n",
    "shape=a.shape\n",
    "size=a.itemsize\n",
    "datatype=a.dtype.name\n",
    "print (\"a = \",a)\n",
    "print (\"Number of axes (dimensions) of the array = \", dim)\n",
    "print (\"Dimension of the array = \", shape)\n",
    "print (\"Total number of elements of the array = \", size)\n",
    "print (\"Type of the elements in the array = \", datatype)"
   ]
  },
  {
   "cell_type": "markdown",
   "metadata": {},
   "source": [
    "## Array Creation\n",
    "There are several ways to create arrays.\n",
    "\n",
    "For example, you can create an array from a regular Python list or tuple using the array function. The type of the resulting array is deduced from the type of the elements in the sequences.\n",
    "\n"
   ]
  },
  {
   "cell_type": "code",
   "execution_count": 19,
   "metadata": {},
   "outputs": [
    {
     "data": {
      "text/plain": [
       "array([2, 3, 4])"
      ]
     },
     "execution_count": 19,
     "metadata": {},
     "output_type": "execute_result"
    }
   ],
   "source": [
    "a = np.array([2,3,4])\n",
    "a\n"
   ]
  },
  {
   "cell_type": "markdown",
   "metadata": {},
   "source": [
    "A frequent error consists in calling array with multiple numeric arguments, rather than providing a single list of numbers as an argument.\n",
    "\n",
    "$a = np.array(1,2,3,4)$ <b style=\"color:Tomato;\">WRONG</b>\n",
    "\n",
    "$a = np.array([1,2,3,4])$ <b style=\"color:MediumSeaGreen;\">RIGHT</b>\n",
    "    \n",
    "Array transforms sequences of sequences into two-dimensional arrays, sequences of sequences of sequences into three-dimensional arrays, and so on.\n",
    "  "
   ]
  },
  {
   "cell_type": "code",
   "execution_count": 20,
   "metadata": {},
   "outputs": [
    {
     "data": {
      "text/plain": [
       "array([[1.5, 2. , 3. ],\n",
       "       [4. , 5. , 6. ]])"
      ]
     },
     "execution_count": 20,
     "metadata": {},
     "output_type": "execute_result"
    }
   ],
   "source": [
    "b = np.array([(1.5,2,3), (4,5,6)])\n",
    "b\n"
   ]
  },
  {
   "cell_type": "code",
   "execution_count": 21,
   "metadata": {},
   "outputs": [
    {
     "data": {
      "text/plain": [
       "array([[0., 0., 0., 0.],\n",
       "       [0., 0., 0., 0.],\n",
       "       [0., 0., 0., 0.]])"
      ]
     },
     "execution_count": 21,
     "metadata": {},
     "output_type": "execute_result"
    }
   ],
   "source": [
    "np.zeros( (3,4) )"
   ]
  },
  {
   "cell_type": "code",
   "execution_count": 22,
   "metadata": {},
   "outputs": [
    {
     "data": {
      "text/plain": [
       "array([[[1, 1, 1, 1],\n",
       "        [1, 1, 1, 1],\n",
       "        [1, 1, 1, 1]],\n",
       "\n",
       "       [[1, 1, 1, 1],\n",
       "        [1, 1, 1, 1],\n",
       "        [1, 1, 1, 1]]], dtype=int16)"
      ]
     },
     "execution_count": 22,
     "metadata": {},
     "output_type": "execute_result"
    }
   ],
   "source": [
    "np.ones( (2,3,4), dtype=np.int16 )                # dtype can also be specified"
   ]
  },
  {
   "cell_type": "markdown",
   "metadata": {},
   "source": [
    "To create sequences of numbers, NumPy provides a function analogous to range that returns arrays instead of lists."
   ]
  },
  {
   "cell_type": "code",
   "execution_count": 23,
   "metadata": {},
   "outputs": [
    {
     "data": {
      "text/plain": [
       "array([10, 15, 20, 25])"
      ]
     },
     "execution_count": 23,
     "metadata": {},
     "output_type": "execute_result"
    }
   ],
   "source": [
    "np.arange( 10, 30, 5 )"
   ]
  },
  {
   "cell_type": "code",
   "execution_count": 24,
   "metadata": {},
   "outputs": [
    {
     "data": {
      "text/plain": [
       "array([0. , 0.3, 0.6, 0.9, 1.2, 1.5, 1.8])"
      ]
     },
     "execution_count": 24,
     "metadata": {},
     "output_type": "execute_result"
    }
   ],
   "source": [
    "np.arange( 0, 2, 0.3 )                 # it accepts float arguments"
   ]
  },
  {
   "cell_type": "code",
   "execution_count": 25,
   "metadata": {},
   "outputs": [
    {
     "data": {
      "text/plain": [
       "array([0.  , 0.25, 0.5 , 0.75, 1.  , 1.25, 1.5 , 1.75, 2.  ])"
      ]
     },
     "execution_count": 25,
     "metadata": {},
     "output_type": "execute_result"
    }
   ],
   "source": [
    "from numpy import pi\n",
    "np.linspace( 0, 2, 9 )                 # 9 numbers from 0 to 2"
   ]
  },
  {
   "cell_type": "code",
   "execution_count": 27,
   "metadata": {},
   "outputs": [
    {
     "name": "stdout",
     "output_type": "stream",
     "text": [
      "[ 0.00000000e+00  6.34239197e-02  1.26592454e-01  1.89251244e-01\n",
      "  2.51147987e-01  3.12033446e-01  3.71662456e-01  4.29794912e-01\n",
      "  4.86196736e-01  5.40640817e-01  5.92907929e-01  6.42787610e-01\n",
      "  6.90079011e-01  7.34591709e-01  7.76146464e-01  8.14575952e-01\n",
      "  8.49725430e-01  8.81453363e-01  9.09631995e-01  9.34147860e-01\n",
      "  9.54902241e-01  9.71811568e-01  9.84807753e-01  9.93838464e-01\n",
      "  9.98867339e-01  9.99874128e-01  9.96854776e-01  9.89821442e-01\n",
      "  9.78802446e-01  9.63842159e-01  9.45000819e-01  9.22354294e-01\n",
      "  8.95993774e-01  8.66025404e-01  8.32569855e-01  7.95761841e-01\n",
      "  7.55749574e-01  7.12694171e-01  6.66769001e-01  6.18158986e-01\n",
      "  5.67059864e-01  5.13677392e-01  4.58226522e-01  4.00930535e-01\n",
      "  3.42020143e-01  2.81732557e-01  2.20310533e-01  1.58001396e-01\n",
      "  9.50560433e-02  3.17279335e-02 -3.17279335e-02 -9.50560433e-02\n",
      " -1.58001396e-01 -2.20310533e-01 -2.81732557e-01 -3.42020143e-01\n",
      " -4.00930535e-01 -4.58226522e-01 -5.13677392e-01 -5.67059864e-01\n",
      " -6.18158986e-01 -6.66769001e-01 -7.12694171e-01 -7.55749574e-01\n",
      " -7.95761841e-01 -8.32569855e-01 -8.66025404e-01 -8.95993774e-01\n",
      " -9.22354294e-01 -9.45000819e-01 -9.63842159e-01 -9.78802446e-01\n",
      " -9.89821442e-01 -9.96854776e-01 -9.99874128e-01 -9.98867339e-01\n",
      " -9.93838464e-01 -9.84807753e-01 -9.71811568e-01 -9.54902241e-01\n",
      " -9.34147860e-01 -9.09631995e-01 -8.81453363e-01 -8.49725430e-01\n",
      " -8.14575952e-01 -7.76146464e-01 -7.34591709e-01 -6.90079011e-01\n",
      " -6.42787610e-01 -5.92907929e-01 -5.40640817e-01 -4.86196736e-01\n",
      " -4.29794912e-01 -3.71662456e-01 -3.12033446e-01 -2.51147987e-01\n",
      " -1.89251244e-01 -1.26592454e-01 -6.34239197e-02 -2.44929360e-16]\n"
     ]
    }
   ],
   "source": [
    "x = np.linspace( 0, 2*pi, 100 )        # useful to evaluate function at lots of points\n",
    "f = np.sin(x)\n",
    "print(f)"
   ]
  },
  {
   "cell_type": "code",
   "execution_count": 28,
   "metadata": {},
   "outputs": [
    {
     "name": "stdout",
     "output_type": "stream",
     "text": [
      "[0 1 2 3 4 5]\n"
     ]
    }
   ],
   "source": [
    "a = np.arange(6)                         # 1d array\n",
    "print(a)"
   ]
  },
  {
   "cell_type": "code",
   "execution_count": 29,
   "metadata": {},
   "outputs": [
    {
     "name": "stdout",
     "output_type": "stream",
     "text": [
      "[[ 0  1  2]\n",
      " [ 3  4  5]\n",
      " [ 6  7  8]\n",
      " [ 9 10 11]]\n"
     ]
    }
   ],
   "source": [
    "b = np.arange(12).reshape(4,3)           # 2d array\n",
    "print(b)"
   ]
  },
  {
   "cell_type": "code",
   "execution_count": 30,
   "metadata": {},
   "outputs": [
    {
     "name": "stdout",
     "output_type": "stream",
     "text": [
      "[[[ 0  1  2  3]\n",
      "  [ 4  5  6  7]\n",
      "  [ 8  9 10 11]]\n",
      "\n",
      " [[12 13 14 15]\n",
      "  [16 17 18 19]\n",
      "  [20 21 22 23]]]\n"
     ]
    }
   ],
   "source": [
    "c = np.arange(24).reshape(2,3,4)         # 3d array\n",
    "print(c)"
   ]
  },
  {
   "cell_type": "markdown",
   "metadata": {},
   "source": [
    "## Basic Operations\n",
    "\n",
    "Arithmetic operators on arrays apply elementwise. A new array is created and filled with the result."
   ]
  },
  {
   "cell_type": "code",
   "execution_count": 31,
   "metadata": {},
   "outputs": [
    {
     "data": {
      "text/plain": [
       "array([0, 1, 2, 3])"
      ]
     },
     "execution_count": 31,
     "metadata": {},
     "output_type": "execute_result"
    }
   ],
   "source": [
    "a = np.array( [20,30,40,50] )\n",
    "b = np.arange( 4 )\n",
    "b"
   ]
  },
  {
   "cell_type": "code",
   "execution_count": 32,
   "metadata": {},
   "outputs": [
    {
     "data": {
      "text/plain": [
       "array([20, 29, 38, 47])"
      ]
     },
     "execution_count": 32,
     "metadata": {},
     "output_type": "execute_result"
    }
   ],
   "source": [
    "c = a-b\n",
    "c"
   ]
  },
  {
   "cell_type": "code",
   "execution_count": 33,
   "metadata": {},
   "outputs": [
    {
     "data": {
      "text/plain": [
       "array([0, 1, 4, 9])"
      ]
     },
     "execution_count": 33,
     "metadata": {},
     "output_type": "execute_result"
    }
   ],
   "source": [
    "b**2"
   ]
  },
  {
   "cell_type": "code",
   "execution_count": 34,
   "metadata": {},
   "outputs": [
    {
     "data": {
      "text/plain": [
       "array([ 9.12945251, -9.88031624,  7.4511316 , -2.62374854])"
      ]
     },
     "execution_count": 34,
     "metadata": {},
     "output_type": "execute_result"
    }
   ],
   "source": [
    "10*np.sin(a)"
   ]
  },
  {
   "cell_type": "code",
   "execution_count": 35,
   "metadata": {},
   "outputs": [
    {
     "data": {
      "text/plain": [
       "array([ True,  True, False, False])"
      ]
     },
     "execution_count": 35,
     "metadata": {},
     "output_type": "execute_result"
    }
   ],
   "source": [
    "a<35"
   ]
  },
  {
   "cell_type": "markdown",
   "metadata": {},
   "source": [
    "Unlike in many matrix languages, the product operator * operates elementwise in NumPy arrays. The matrix product can be performed using the dot function or method:"
   ]
  },
  {
   "cell_type": "code",
   "execution_count": 36,
   "metadata": {},
   "outputs": [
    {
     "data": {
      "text/plain": [
       "array([[2, 0],\n",
       "       [0, 4]])"
      ]
     },
     "execution_count": 36,
     "metadata": {},
     "output_type": "execute_result"
    }
   ],
   "source": [
    "A = np.array( [[1,1],\n",
    "            [0,1]] )\n",
    "B = np.array( [[2,0],\n",
    "            [3,4]] )\n",
    "A*B                         # elementwise product\n"
   ]
  },
  {
   "cell_type": "code",
   "execution_count": 37,
   "metadata": {},
   "outputs": [
    {
     "data": {
      "text/plain": [
       "array([[5, 4],\n",
       "       [3, 4]])"
      ]
     },
     "execution_count": 37,
     "metadata": {},
     "output_type": "execute_result"
    }
   ],
   "source": [
    "A.dot(B)                    # matrix product"
   ]
  },
  {
   "cell_type": "code",
   "execution_count": 38,
   "metadata": {},
   "outputs": [
    {
     "data": {
      "text/plain": [
       "array([[5, 4],\n",
       "       [3, 4]])"
      ]
     },
     "execution_count": 38,
     "metadata": {},
     "output_type": "execute_result"
    }
   ],
   "source": [
    "np.dot(A, B)                # another matrix product"
   ]
  },
  {
   "cell_type": "code",
   "execution_count": 39,
   "metadata": {},
   "outputs": [
    {
     "data": {
      "text/plain": [
       "array([[5, 4],\n",
       "       [3, 4]])"
      ]
     },
     "execution_count": 39,
     "metadata": {},
     "output_type": "execute_result"
    }
   ],
   "source": [
    "A@B"
   ]
  },
  {
   "cell_type": "markdown",
   "metadata": {},
   "source": [
    "Some operations, such as += and *=, act in place to modify an existing array rather than create a new one"
   ]
  },
  {
   "cell_type": "code",
   "execution_count": 40,
   "metadata": {},
   "outputs": [
    {
     "data": {
      "text/plain": [
       "array([[3, 3, 3],\n",
       "       [3, 3, 3]])"
      ]
     },
     "execution_count": 40,
     "metadata": {},
     "output_type": "execute_result"
    }
   ],
   "source": [
    "a = np.ones((2,3), dtype=int)\n",
    "b = np.random.random((2,3))\n",
    "a *= 3\n",
    "a"
   ]
  },
  {
   "cell_type": "code",
   "execution_count": 41,
   "metadata": {},
   "outputs": [
    {
     "data": {
      "text/plain": [
       "array([[3.78277042, 3.26876086, 3.48552578],\n",
       "       [3.89227435, 3.61062041, 3.07859404]])"
      ]
     },
     "execution_count": 41,
     "metadata": {},
     "output_type": "execute_result"
    }
   ],
   "source": [
    "b += a\n",
    "b\n"
   ]
  },
  {
   "cell_type": "code",
   "execution_count": 42,
   "metadata": {},
   "outputs": [
    {
     "data": {
      "text/plain": [
       "array([ 0.40808206+0.91294525j, -0.74805753-0.66363388j,\n",
       "        0.95507364+0.29636858j, -0.99233547+0.12357312j])"
      ]
     },
     "execution_count": 42,
     "metadata": {},
     "output_type": "execute_result"
    }
   ],
   "source": [
    "d = np.exp(c*1j)\n",
    "d"
   ]
  },
  {
   "cell_type": "code",
   "execution_count": 43,
   "metadata": {},
   "outputs": [
    {
     "data": {
      "text/plain": [
       "array([[0.28340784, 0.64764926, 0.58171401],\n",
       "       [0.53170398, 0.97505824, 0.21859092]])"
      ]
     },
     "execution_count": 43,
     "metadata": {},
     "output_type": "execute_result"
    }
   ],
   "source": [
    "a = np.random.random((2,3))\n",
    "a"
   ]
  },
  {
   "cell_type": "code",
   "execution_count": 44,
   "metadata": {},
   "outputs": [
    {
     "data": {
      "text/plain": [
       "3.2381242470486997"
      ]
     },
     "execution_count": 44,
     "metadata": {},
     "output_type": "execute_result"
    }
   ],
   "source": [
    "a.sum()"
   ]
  },
  {
   "cell_type": "code",
   "execution_count": 45,
   "metadata": {},
   "outputs": [
    {
     "data": {
      "text/plain": [
       "0.21859091985475565"
      ]
     },
     "execution_count": 45,
     "metadata": {},
     "output_type": "execute_result"
    }
   ],
   "source": [
    "a.min()"
   ]
  },
  {
   "cell_type": "code",
   "execution_count": 46,
   "metadata": {},
   "outputs": [
    {
     "data": {
      "text/plain": [
       "0.9750582396483358"
      ]
     },
     "execution_count": 46,
     "metadata": {},
     "output_type": "execute_result"
    }
   ],
   "source": [
    "a.max()"
   ]
  },
  {
   "cell_type": "markdown",
   "metadata": {},
   "source": [
    "## Universal Functions\n",
    "NumPy provides familiar mathematical functions such as sin, cos, and exp. In NumPy, these are called “universal functions”(ufunc). Within NumPy, these functions operate elementwise on an array, producing an array as output."
   ]
  },
  {
   "cell_type": "code",
   "execution_count": 47,
   "metadata": {},
   "outputs": [
    {
     "data": {
      "text/plain": [
       "array([0, 1, 2])"
      ]
     },
     "execution_count": 47,
     "metadata": {},
     "output_type": "execute_result"
    }
   ],
   "source": [
    "B = np.arange(3)\n",
    "B"
   ]
  },
  {
   "cell_type": "code",
   "execution_count": 48,
   "metadata": {},
   "outputs": [
    {
     "data": {
      "text/plain": [
       "array([0., 0., 0., 0., 0.])"
      ]
     },
     "execution_count": 48,
     "metadata": {},
     "output_type": "execute_result"
    }
   ],
   "source": [
    "np.zeros(5)"
   ]
  },
  {
   "cell_type": "code",
   "execution_count": 49,
   "metadata": {},
   "outputs": [
    {
     "data": {
      "text/plain": [
       "array([1., 1., 1., 1., 1.])"
      ]
     },
     "execution_count": 49,
     "metadata": {},
     "output_type": "execute_result"
    }
   ],
   "source": [
    "np.ones(5)"
   ]
  },
  {
   "cell_type": "code",
   "execution_count": 50,
   "metadata": {},
   "outputs": [
    {
     "data": {
      "text/plain": [
       "array([1.        , 2.71828183, 7.3890561 ])"
      ]
     },
     "execution_count": 50,
     "metadata": {},
     "output_type": "execute_result"
    }
   ],
   "source": [
    "np.exp(B)"
   ]
  },
  {
   "cell_type": "code",
   "execution_count": 51,
   "metadata": {},
   "outputs": [
    {
     "data": {
      "text/plain": [
       "array([0.        , 1.        , 1.41421356])"
      ]
     },
     "execution_count": 51,
     "metadata": {},
     "output_type": "execute_result"
    }
   ],
   "source": [
    "np.sqrt(B)"
   ]
  },
  {
   "cell_type": "code",
   "execution_count": 52,
   "metadata": {},
   "outputs": [
    {
     "data": {
      "text/plain": [
       "array([2., 0., 6.])"
      ]
     },
     "execution_count": 52,
     "metadata": {},
     "output_type": "execute_result"
    }
   ],
   "source": [
    "C = np.array([2., -1., 4.])\n",
    "np.add(B, C)"
   ]
  },
  {
   "cell_type": "markdown",
   "metadata": {},
   "source": [
    "## Indexing Array Elements\n",
    "\n",
    "One-dimensional arrays can be indexed, sliced and iterated over, much like lists and other Python sequences."
   ]
  },
  {
   "cell_type": "code",
   "execution_count": 53,
   "metadata": {},
   "outputs": [
    {
     "data": {
      "text/plain": [
       "array([  0,   1,   8,  27,  64, 125, 216, 343, 512, 729])"
      ]
     },
     "execution_count": 53,
     "metadata": {},
     "output_type": "execute_result"
    }
   ],
   "source": [
    "a = np.arange(10)**3\n",
    "a"
   ]
  },
  {
   "cell_type": "code",
   "execution_count": 54,
   "metadata": {},
   "outputs": [
    {
     "data": {
      "text/plain": [
       "8"
      ]
     },
     "execution_count": 54,
     "metadata": {},
     "output_type": "execute_result"
    }
   ],
   "source": [
    "a[2]"
   ]
  },
  {
   "cell_type": "code",
   "execution_count": 55,
   "metadata": {},
   "outputs": [
    {
     "data": {
      "text/plain": [
       "array([ 8, 27, 64])"
      ]
     },
     "execution_count": 55,
     "metadata": {},
     "output_type": "execute_result"
    }
   ],
   "source": [
    "a[2:5]"
   ]
  },
  {
   "cell_type": "code",
   "execution_count": 56,
   "metadata": {},
   "outputs": [
    {
     "data": {
      "text/plain": [
       "array([-1000,     1, -1000,    27, -1000,   125,   216,   343,   512,\n",
       "         729])"
      ]
     },
     "execution_count": 56,
     "metadata": {},
     "output_type": "execute_result"
    }
   ],
   "source": [
    "a[:6:2] = -1000    # equivalent to a[0:6:2] = -1000; from start to position 6, exclusive, set every 2nd element to -1000\n",
    "a"
   ]
  },
  {
   "cell_type": "code",
   "execution_count": 57,
   "metadata": {},
   "outputs": [
    {
     "data": {
      "text/plain": [
       "array([  729,   512,   343,   216,   125, -1000,    27, -1000,     1,\n",
       "       -1000])"
      ]
     },
     "execution_count": 57,
     "metadata": {},
     "output_type": "execute_result"
    }
   ],
   "source": [
    "a[ : :-1]                                 # reversed a"
   ]
  },
  {
   "cell_type": "markdown",
   "metadata": {},
   "source": [
    "Multidimensional arrays can have one index per axis. These indices are given in a tuple separated by commas:"
   ]
  },
  {
   "cell_type": "code",
   "execution_count": 58,
   "metadata": {},
   "outputs": [
    {
     "data": {
      "text/plain": [
       "array([[ 0,  1,  2,  3],\n",
       "       [10, 11, 12, 13],\n",
       "       [20, 21, 22, 23],\n",
       "       [30, 31, 32, 33],\n",
       "       [40, 41, 42, 43]])"
      ]
     },
     "execution_count": 58,
     "metadata": {},
     "output_type": "execute_result"
    }
   ],
   "source": [
    "b =np.array([[ 0,  1,  2,  3],\n",
    "       [10, 11, 12, 13],\n",
    "       [20, 21, 22, 23],\n",
    "       [30, 31, 32, 33],\n",
    "       [40, 41, 42, 43]])\n",
    "b"
   ]
  },
  {
   "cell_type": "code",
   "execution_count": 40,
   "metadata": {},
   "outputs": [
    {
     "data": {
      "text/plain": [
       "23"
      ]
     },
     "execution_count": 40,
     "metadata": {},
     "output_type": "execute_result"
    }
   ],
   "source": [
    "b[2,3]"
   ]
  },
  {
   "cell_type": "code",
   "execution_count": 41,
   "metadata": {},
   "outputs": [
    {
     "data": {
      "text/plain": [
       "array([ 1, 11, 21, 31, 41])"
      ]
     },
     "execution_count": 41,
     "metadata": {},
     "output_type": "execute_result"
    }
   ],
   "source": [
    "b[0:5, 1]                       # each row in the second column of b"
   ]
  },
  {
   "cell_type": "code",
   "execution_count": 59,
   "metadata": {},
   "outputs": [
    {
     "data": {
      "text/plain": [
       "array([ 1, 11, 21, 31, 41])"
      ]
     },
     "execution_count": 59,
     "metadata": {},
     "output_type": "execute_result"
    }
   ],
   "source": [
    "b[ : ,1]                        # equivalent to the previous example"
   ]
  },
  {
   "cell_type": "code",
   "execution_count": 60,
   "metadata": {},
   "outputs": [
    {
     "data": {
      "text/plain": [
       "array([[10, 11, 12, 13],\n",
       "       [20, 21, 22, 23]])"
      ]
     },
     "execution_count": 60,
     "metadata": {},
     "output_type": "execute_result"
    }
   ],
   "source": [
    "b[1:3, : ]                      # each column in the second and third row of b"
   ]
  },
  {
   "cell_type": "markdown",
   "metadata": {},
   "source": [
    "# Mathematical functions\n",
    "\n",
    "Following are some commonly used functions, where variables x and y can be numbers,\n",
    "vectors, or matrices.\n",
    "<html>\n",
    "<head>\n",
    "<style>\n",
    "table {\n",
    "    font-family: arial, sans-serif;\n",
    "    border: 1px solid black;\n",
    "    border-collapse: collapse;\n",
    "    width: 100%;\n",
    "}\n",
    "\n",
    "</style>\n",
    "</head>\n",
    "<body>\n",
    "\n",
    "<table style=\"width:100%\">\n",
    "    \n",
    "  <tr>\n",
    "    <td>cos(x)</td>\n",
    "    <td>Cosine</td>\n",
    "    <td>abs(x)</td>\n",
    "    <td>Absolute value</td>    \n",
    "  </tr>\n",
    "  \n",
    "  <tr>\n",
    "    <td>sin(x)</td>\n",
    "    <td>Sine</td>\n",
    "    <td>sign(x) </td>\n",
    "    <td>Signum function</td>    \n",
    "  </tr>\n",
    "  \n",
    "  <tr>\n",
    "    <td>tan(x) </td>\n",
    "    <td> Tangent</td>\n",
    "    <td>max(x)</td>\n",
    "    <td>Maximum value</td>    \n",
    "  </tr>\n",
    "  \n",
    "  <tr>\n",
    "    <td>arccos(x)   </td>\n",
    "    <td>Arc cosine </td>\n",
    "    <td>min(x)</td>\n",
    "    <td>Minimum value</td>    \n",
    "  </tr>\n",
    "  \n",
    "  <tr>\n",
    "    <td>arcsin(x)      </td>\n",
    "    <td> Arc sine</td>\n",
    "    <td>ceil(x)</td>\n",
    "    <td>Round towards +∞</td>    \n",
    "  </tr>\n",
    "  \n",
    "  <tr>\n",
    "    <td>arctan(x)  </td>\n",
    "    <td>Arc tangent  </td>\n",
    "    <td>floor(x)  </td> \n",
    "    <td>Round towards −∞ </td>\n",
    "    \n",
    "        \n",
    "  </tr>\n",
    "  \n",
    "  <tr>\n",
    "    <td>exp(x)  </td>\n",
    "    <td>Exponential </td>\n",
    "    <td>round(x) </td>\n",
    "    <td>Round to nearest integer </td>\n",
    "  </tr>\n",
    "  \n",
    "  <tr>\n",
    "    <td>sqrt(x)  </td>\n",
    "    <td>Square root    </td>\n",
    "    <td>remainder(x)   </td>\n",
    "    <td>Remainder after division     </td>\n",
    "  </tr>\n",
    "  \n",
    "  <tr>\n",
    "    <td>log(x)   </td>\n",
    "    <td>Natural logarithm    </td>\n",
    "    <td>angle(x)    </td>\n",
    "    <td>Phase angle   </td>\n",
    "  </tr>\n",
    "  \n",
    "  <tr>\n",
    "    <td>log10(x)  </td>\n",
    "    <td>Common logarithm  </td>\n",
    "    <td>conj(x)   </td>\n",
    "    <td>Complex conjugate     </td>\n",
    "  </tr>\n",
    "  \n",
    "</table>\n",
    "\n",
    "</body>\n",
    "</html>\n",
    "\n",
    "\n",
    "Example 1 plots 'cosine' and 'sine' functions in the range [0 $2\\pi$) usign subplots sharing x-axis and example 2 plots 'Signum' and 'Exponential' functions in the range [-1 1) usign subplots sharing y-axis."
   ]
  },
  {
   "cell_type": "code",
   "execution_count": 61,
   "metadata": {
    "scrolled": true
   },
   "outputs": [
    {
     "name": "stdout",
     "output_type": "stream",
     "text": [
      "[0.         0.31415927 0.62831853 0.9424778  1.25663706 1.57079633\n",
      " 1.88495559 2.19911486 2.51327412 2.82743339 3.14159265 3.45575192\n",
      " 3.76991118 4.08407045 4.39822972 4.71238898 5.02654825 5.34070751\n",
      " 5.65486678 5.96902604]\n"
     ]
    },
    {
     "data": {
      "image/png": "[encoded data removed]",
      "text/plain": [
       "<matplotlib.figure.Figure at 0x7f5e761c2e10>"
      ]
     },
     "metadata": {},
     "output_type": "display_data"
    }
   ],
   "source": [
    "# Example 1\n",
    "import numpy as np \n",
    "%matplotlib inline\n",
    "import matplotlib.pyplot as plt\n",
    "\n",
    "x=np.arange(0, 2*np.pi, np.pi/10)\n",
    "print(x)\n",
    "y=np.cos(x)\n",
    "z=np.sin(x)\n",
    "f, axarr = plt.subplots(2, sharex=True)   #Sharing X-axis\n",
    "axarr[0].stem(x,y)\n",
    "axarr[0].set_title('Cosine plot')\n",
    "axarr[1].stem(x,z)\n",
    "axarr[1].set_title('Sine plot')\n",
    "#print(z)\n",
    "#plt.stem(x,y);\n",
    "plt.show()"
   ]
  },
  {
   "cell_type": "code",
   "execution_count": 62,
   "metadata": {},
   "outputs": [
    {
     "data": {
      "image/png": "[encoded data removed]",
      "text/plain": [
       "<matplotlib.figure.Figure at 0x7f5e64941e10>"
      ]
     },
     "metadata": {},
     "output_type": "display_data"
    }
   ],
   "source": [
    "# Example 2\n",
    "import numpy as np \n",
    "import matplotlib.pyplot as plt\n",
    "x=np.arange(-1, 1, 0.1)\n",
    "y=np.sign(x)\n",
    "z=np.exp(x)\n",
    "f, (ax1, ax2) = plt.subplots(1, 2, sharey=True)  #Sharing Y axis\n",
    "ax1.stem(x,y)\n",
    "ax1.set_title('Signum function')\n",
    "ax2.stem(x,z)\n",
    "ax2.set_title('Exponential function')\n",
    "\n",
    "plt.show()"
   ]
  },
  {
   "cell_type": "markdown",
   "metadata": {},
   "source": [
    "# Multiple data sets in one plot\n",
    "\n",
    "Multiple $(x, y)$ pairs arguments create multiple graphs with a single call to plot. For example, these statements plot three related functions of $x: y_1 = 2 cos(x), y_2 = cos(x)$, and $y_3 = 0.5cos(x)$, in the interval $0 ≤ x ≤ 2\\pi$.\n",
    "\n",
    "### Specifying line styles and colors\n",
    "\n",
    "It is possible to specify line styles, colors, and markers using the command specifie in Example 3. \n",
    "\n",
    "\n",
    "<html>\n",
    "<head>\n",
    "<style>\n",
    "table {\n",
    "    font-family: arial, sans-serif;\n",
    "    border: 1px solid black;\n",
    "    border-collapse: collapse;\n",
    "    width: 100%;\n",
    "}\n",
    "\n",
    "</style>\n",
    "</head>\n",
    "<body>\n",
    "\n",
    "<table style=\"width:100%\">\n",
    "    \n",
    "  <tr>\n",
    "    <th>Symbol</th>\n",
    "    <th>Color</th>\n",
    "    <th>Symbol</th>\n",
    "    <th>Line Style</th> \n",
    "    <th>Symbol</th>\n",
    "    <th>Marker</th> \n",
    "  </tr>\n",
    "  \n",
    "  <tr>\n",
    "    <td>k</td>\n",
    "    <td>Black</td>\n",
    "    <td>-</td>\n",
    "    <td>Solid</td>\n",
    "    <td>,</td> \n",
    "    <td>pixel</td>\n",
    "  </tr>\n",
    "  \n",
    "  <tr>\n",
    "    <td>r </td>\n",
    "    <td> Red</td>\n",
    "    <td>--</td>\n",
    "    <td>Dashed</td>\n",
    "    <td>o</td>\n",
    "    <td>circle</td>\n",
    "        \n",
    "  </tr>\n",
    "  \n",
    "  <tr>\n",
    "    <td>b </td>\n",
    "    <td> Blue</td>\n",
    "    <td>:</td>\n",
    "    <td>Dotted</td>\n",
    "    <td>+</td>\n",
    "    <td>Plus sign</td>        \n",
    "  </tr>\n",
    "  \n",
    "  <tr>\n",
    "    <td>g </td>\n",
    "    <td> Green</td>\n",
    "    <td>-.</td>\n",
    "    <td>Dash-dot</td> \n",
    "    <td>v</td>\n",
    "    <td>Triangle_down</td>\n",
    "  </tr>\n",
    "  <tr>\n",
    "    <td>c </td>\n",
    "    <td> Cyan</td>\n",
    "    <td></td> \n",
    "    <td></td> \n",
    "    <td>^</td>\n",
    "    <td>Triangle_up</td>\n",
    "  </tr>\n",
    "  \n",
    "  <tr>\n",
    "    <td>m </td>\n",
    "    <td> Magenta</td>\n",
    "    <td></td> \n",
    "    <td></td>\n",
    "    <td>></td>\n",
    "    <td>Triangle_right</td>        \n",
    "  </tr>\n",
    "  \n",
    "  <tr>\n",
    "    <td>y </td>\n",
    "    <td> yellow</td>\n",
    "    <td></td> \n",
    "    <td></td>\n",
    "    <td>s</td>\n",
    "    <td>Square</td>         \n",
    "  </tr>\n",
    "  \n",
    "  <tr>\n",
    "    <td></td> \n",
    "    <td></td>\n",
    "    <td></td> \n",
    "    <td></td>\n",
    "    <td>p</td>\n",
    "    <td>Pentagon</td>         \n",
    "  </tr>\n",
    "  \n",
    "   <tr>\n",
    "    <td></td> \n",
    "    <td></td>\n",
    "    <td></td> \n",
    "    <td></td>\n",
    "    <td>*</td>\n",
    "    <td>Star</td>         \n",
    "  </tr>\n",
    "  \n",
    "  \n",
    "  \n",
    "  \n",
    "  \n",
    "  </table>\n",
    "\n",
    "</body>\n",
    "</html>\n"
   ]
  },
  {
   "cell_type": "code",
   "execution_count": 63,
   "metadata": {},
   "outputs": [
    {
     "data": {
      "image/png": "[encoded data removed]",
      "text/plain": [
       "<matplotlib.figure.Figure at 0x7f5e647e2b00>"
      ]
     },
     "metadata": {},
     "output_type": "display_data"
    }
   ],
   "source": [
    "# Example 3\n",
    "import numpy as np \n",
    "import matplotlib.pyplot as plt\n",
    "\n",
    "x=np.arange(0, 2*np.pi, np.pi/15)\n",
    "y1=2*np.cos(x)\n",
    "y2=np.cos(x)\n",
    "y3=0.5*np.cos(x)\n",
    "fig, ax = plt.subplots()\n",
    "\n",
    "#Dash style dashes = [20, 5, 20, 5]  means 20 points on, 5 off, 20 on, 5 off\n",
    "line1 = ax.plot(x, y1, '--', linewidth=2, dashes=[20, 5, 20, 5], label='2cos(x)')\n",
    "\n",
    "#Line styles\n",
    "line2 = ax.plot(x,y2, linestyle='--', color='r', linewidth=3, label='cos(x)')\n",
    "\n",
    "#Marker style\n",
    "line3 = ax.plot(x,y3, marker='v', linewidth=1, label='0.5cos(x)')\n",
    "\n",
    "ax.legend(loc='lower right')\n",
    "\n",
    "plt.show()"
   ]
  },
  {
   "cell_type": "code",
   "execution_count": null,
   "metadata": {},
   "outputs": [],
   "source": []
  }
 ],
 "metadata": {
  "kernelspec": {
   "display_name": "Python 3",
   "language": "python",
   "name": "python3"
  },
  "language_info": {
   "codemirror_mode": {
    "name": "ipython",
    "version": 3
   },
   "file_extension": ".py",
   "mimetype": "text/x-python",
   "name": "python",
   "nbconvert_exporter": "python",
   "pygments_lexer": "ipython3",
   "version": "3.6.7"
  }
 },
 "nbformat": 4,
 "nbformat_minor": 2
}
