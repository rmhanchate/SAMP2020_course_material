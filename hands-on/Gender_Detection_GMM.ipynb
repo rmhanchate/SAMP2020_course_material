{
 "cells": [
  {
   "cell_type": "markdown",
   "metadata": {},
   "source": [
    "# Gender Detection using Gaussian Mixture Models"
   ]
  },
  {
   "cell_type": "markdown",
   "metadata": {},
   "source": [
    "## Setup\n",
    "We first need to import the required Python libraries for the entire anaylsis  \n",
    "Prerequisites required in this implementation are:\n",
    "```\n",
    "Python 3.x \n",
    "numpy   \n",
    "scipy\n",
    "matplotlib\n",
    "scikit-learn\n",
    "librosa\n",
    "```\n",
    "\n",
    "You can invoke any required library into your workspace as:  \n",
    "`import package_name`  "
   ]
  },
  {
   "cell_type": "code",
   "execution_count": 1,
   "metadata": {},
   "outputs": [],
   "source": [
    "import os\n",
    "import pickle\n",
    "import numpy as np\n",
    "from scipy.io.wavfile import read\n",
    "from sklearn.mixture import GaussianMixture as GMM\n",
    "from sklearn import preprocessing\n",
    "import librosa\n",
    "import warnings\n",
    "\n",
    "#Ignore warnings for now\n",
    "warnings.filterwarnings(\"ignore\")"
   ]
  },
  {
   "cell_type": "markdown",
   "metadata": {},
   "source": [
    "### Load training data"
   ]
  },
  {
   "cell_type": "code",
   "execution_count": 2,
   "metadata": {},
   "outputs": [
    {
     "name": "stdout",
     "output_type": "stream",
     "text": [
      "Number of male files =  5\n",
      "Number of female files =  5\n"
     ]
    }
   ],
   "source": [
    "training_path = '../pygender/train_data'\n",
    "\n",
    "male_files = []\n",
    "female_files = []\n",
    "\n",
    "# r=root, d=directories, f = files\n",
    "for r, d, f in os.walk(os.path.join(training_path,'male')):\n",
    "    for file in f:\n",
    "        if '.wav' in file:\n",
    "            male_files.append(os.path.join(r, file))\n",
    "for r, d, f in os.walk(os.path.join(training_path,'female')):\n",
    "    for file in f:\n",
    "        if '.wav' in file:\n",
    "            female_files.append(os.path.join(r, file))\n",
    "print('Number of male files = ', len(male_files))\n",
    "print('Number of female files = ', len(female_files))"
   ]
  },
  {
   "cell_type": "markdown",
   "metadata": {},
   "source": [
    "### Feature extraction\n",
    "Now let's extract MFCC features that we will use for training our GMMs.\n",
    "\n",
    "We will first train a Gaussian model for female speech."
   ]
  },
  {
   "cell_type": "code",
   "execution_count": 3,
   "metadata": {},
   "outputs": [],
   "source": [
    "def get_MFCC(sampling_rate,audio):\n",
    "    features = librosa.feature.mfcc(audio,sampling_rate, win_length = int(0.025*sampling_rate), hop_length = int(0.01*sampling_rate), n_mfcc = 13, htk=True)\n",
    "    features = np.transpose(features)\n",
    "    features = preprocessing.scale(features)\n",
    "    return features"
   ]
  },
  {
   "cell_type": "code",
   "execution_count": 4,
   "metadata": {},
   "outputs": [
    {
     "name": "stdout",
     "output_type": "stream",
     "text": [
      "Feature vector shape:  (30072, 13)\n"
     ]
    }
   ],
   "source": [
    "features = np.asarray(())\n",
    "for f in female_files:\n",
    "    sampling_rate,audio = read(f)\n",
    "    vector   = get_MFCC(sampling_rate,audio.astype(float))\n",
    "    if features.size == 0:\n",
    "        features = vector\n",
    "    else:\n",
    "        features = np.vstack((features, vector))\n",
    "print('Feature vector shape: ',features.shape)"
   ]
  },
  {
   "cell_type": "markdown",
   "metadata": {},
   "source": [
    "### Fitting a GMM\n"
   ]
  },
  {
   "cell_type": "code",
   "execution_count": 5,
   "metadata": {},
   "outputs": [
    {
     "data": {
      "text/plain": [
       "GaussianMixture(covariance_type='diag', init_params='kmeans', max_iter=200,\n",
       "                means_init=None, n_components=1, n_init=3, precisions_init=None,\n",
       "                random_state=None, reg_covar=1e-06, tol=0.001, verbose=0,\n",
       "                verbose_interval=10, warm_start=False, weights_init=None)"
      ]
     },
     "execution_count": 5,
     "metadata": {},
     "output_type": "execute_result"
    }
   ],
   "source": [
    "N_gmm_components = 1\n",
    "female_gmm = GMM(n_components = N_gmm_components, max_iter = 200, covariance_type='diag',n_init = 3)\n",
    "female_gmm.fit(features)"
   ]
  },
  {
   "cell_type": "markdown",
   "metadata": {},
   "source": [
    "### Saving the trained model\n",
    "We use the _pickle_ module to save (\"pickle\") the trainel GMM model, which can be used whie testing."
   ]
  },
  {
   "cell_type": "code",
   "execution_count": 6,
   "metadata": {},
   "outputs": [],
   "source": [
    "if not os.path.isdir(\"models/model_\"+str(N_gmm_components)):\n",
    "    os.mkdir(\"models/model_\"+str(N_gmm_components))\n",
    "picklefile = \"models/model_\"+str(N_gmm_components)+\"/female.gmm\"\n",
    "pickle.dump(female_gmm,open(picklefile,'wb'))"
   ]
  },
  {
   "cell_type": "code",
   "execution_count": 7,
   "metadata": {},
   "outputs": [
    {
     "data": {
      "text/plain": [
       "True"
      ]
     },
     "execution_count": 7,
     "metadata": {},
     "output_type": "execute_result"
    }
   ],
   "source": [
    "os.path.isdir(\"models/model_\"+str(N_gmm_components))"
   ]
  },
  {
   "cell_type": "markdown",
   "metadata": {},
   "source": [
    "Similarly, we train a Gaussian model for male speech"
   ]
  },
  {
   "cell_type": "code",
   "execution_count": 18,
   "metadata": {},
   "outputs": [],
   "source": [
    "features = np.asarray(());\n",
    "for f in male_files:\n",
    "    sampling_rate,audio = read(f)\n",
    "    vector   = get_MFCC(sampling_rate,audio.astype(float))\n",
    "    if features.size == 0:\n",
    "        features = vector\n",
    "    else:\n",
    "        features = np.vstack((features, vector))\n",
    "\n",
    "male_gmm = GMM(n_components = N_gmm_components, max_iter = 200, covariance_type='diag',n_init = 3)\n",
    "male_gmm.fit(features)\n",
    "\n",
    "picklefile = \"models/model_\"+str(N_gmm_components)+\"/male.gmm\"\n",
    "pickle.dump(male_gmm,open(picklefile,'wb'))"
   ]
  },
  {
   "cell_type": "markdown",
   "metadata": {},
   "source": [
    "# Test\n",
    "\n",
    "Let's load the test files, and the pickled models"
   ]
  },
  {
   "cell_type": "code",
   "execution_count": 19,
   "metadata": {},
   "outputs": [
    {
     "data": {
      "text/plain": [
       "GaussianMixture(covariance_type='diag', init_params='kmeans', max_iter=200,\n",
       "                means_init=None, n_components=1, n_init=3, precisions_init=None,\n",
       "                random_state=None, reg_covar=1e-06, tol=0.001, verbose=0,\n",
       "                verbose_interval=10, warm_start=False, weights_init=None)"
      ]
     },
     "execution_count": 19,
     "metadata": {},
     "output_type": "execute_result"
    }
   ],
   "source": [
    "male_gmm.predict()"
   ]
  },
  {
   "cell_type": "code",
   "execution_count": 9,
   "metadata": {},
   "outputs": [
    {
     "name": "stdout",
     "output_type": "stream",
     "text": [
      "['models/model_1/female.gmm', 'models/model_1/male.gmm']\n"
     ]
    }
   ],
   "source": [
    "test_path = '../pygender/test_data'\n",
    "model_path = \"models/model_\"+str(N_gmm_components)\n",
    "gmm_files = [os.path.join(model_path,fname) for fname in os.listdir(model_path) if fname.endswith('.gmm')]\n",
    "print(gmm_files)"
   ]
  },
  {
   "cell_type": "markdown",
   "metadata": {},
   "source": [
    "Unpickling to retrieve the saved models"
   ]
  },
  {
   "cell_type": "code",
   "execution_count": 10,
   "metadata": {},
   "outputs": [],
   "source": [
    "models = [pickle.load(open(fname,'rb')) for fname in gmm_files]"
   ]
  },
  {
   "cell_type": "code",
   "execution_count": 11,
   "metadata": {},
   "outputs": [],
   "source": [
    "files = [[], []]\n",
    "\n",
    "true = [0,0]\n",
    "false = [0,0]\n",
    "total = [0,0]\n",
    "for j, gen in enumerate(['female', 'male']):\n",
    "    # r=root, d=directories, f = files\n",
    "    for r, d, f in os.walk(os.path.join(test_path, gen)):\n",
    "        for file in f:\n",
    "            if '.wav' in file:\n",
    "                files[j].append(os.path.join(r, file))\n",
    "    for f in files[j]:\n",
    "        # print(f.split(\"/\")[-1])\n",
    "        sampling_rate, audio  = read(f)\n",
    "        features   = get_MFCC(sampling_rate,audio.astype(float))\n",
    "        scores     = None\n",
    "        log_likelihood = np.zeros(len(models))\n",
    "        for i in range(len(models)):\n",
    "            gmm    = models[i]         #checking with each model one by one\n",
    "            scores = np.array(gmm.score(features))\n",
    "            log_likelihood[i] = scores.sum()\n",
    "        winner = np.argmax(log_likelihood)\n",
    "        if(winner == j):\n",
    "            true[j]+=1\n",
    "        else:\n",
    "            false[j]+=1\n",
    "        total[j]+=1"
   ]
  },
  {
   "cell_type": "markdown",
   "metadata": {},
   "source": [
    "Calculate and print accuracy"
   ]
  },
  {
   "cell_type": "code",
   "execution_count": 12,
   "metadata": {},
   "outputs": [
    {
     "name": "stdout",
     "output_type": "stream",
     "text": [
      "Accuracy =  49.45652173913043 %\n"
     ]
    }
   ],
   "source": [
    "accuracy = (sum(true)/sum(total))\n",
    "print(\"Accuracy = \", accuracy*100, \"%\")"
   ]
  },
  {
   "cell_type": "markdown",
   "metadata": {},
   "source": [
    "Looks like training a Gaussian Model did not work very well!\n",
    "\n",
    "Now let's try training a 8-component Gaussian Mixture Model \n",
    "(change n_components in the GMM function)\n",
    "\n",
    "TRAINING:"
   ]
  },
  {
   "cell_type": "code",
   "execution_count": 14,
   "metadata": {},
   "outputs": [
    {
     "name": "stdout",
     "output_type": "stream",
     "text": [
      "modeling completed for models/model_8/female.gmm\n",
      "modeling completed for models/model_8/male.gmm\n"
     ]
    }
   ],
   "source": [
    "N_gmm_components = 8\n",
    "for gen in ['female', 'male']:\n",
    "    features = np.asarray(());\n",
    "    files = {'female':female_files, 'male':male_files}\n",
    "    for f in files[gen]:\n",
    "        sampling_rate,audio = read(f)\n",
    "        vector   = get_MFCC(sampling_rate,audio.astype(float))\n",
    "        if features.size == 0:\n",
    "            features = vector\n",
    "        else:\n",
    "            features = np.vstack((features, vector))\n",
    "\n",
    "    gmm = GMM(n_components = N_gmm_components, max_iter = 200, covariance_type='diag',n_init = 3)\n",
    "    gmm.fit(features)\n",
    "    if not os.path.isdir(\"models/model_\"+str(N_gmm_components)):\n",
    "        os.mkdir(\"models/model_\"+str(N_gmm_components))\n",
    "    picklefile = \"models/model_\"+str(N_gmm_components)+'/'+gen+\".gmm\"\n",
    "    pickle.dump(gmm,open(picklefile,'wb'))\n",
    "    print('modeling completed for',picklefile)"
   ]
  },
  {
   "cell_type": "markdown",
   "metadata": {},
   "source": [
    "TEST"
   ]
  },
  {
   "cell_type": "code",
   "execution_count": 15,
   "metadata": {},
   "outputs": [
    {
     "name": "stdout",
     "output_type": "stream",
     "text": [
      "['models/model_8/female.gmm', 'models/model_8/male.gmm']\n",
      "Accuracy =  83.42391304347827 %\n"
     ]
    }
   ],
   "source": [
    "test_path = '../pygender/test_data'\n",
    "model_path = \"models/model_\"+str(N_gmm_components)\n",
    "gmm_files = [os.path.join(model_path,fname) for fname in os.listdir(model_path) if fname.endswith('.gmm')]\n",
    "print(gmm_files)\n",
    "models = [pickle.load(open(fname,'rb')) for fname in gmm_files]\n",
    "\n",
    "files = [[], []]\n",
    "\n",
    "true = [0,0]\n",
    "false = [0,0]\n",
    "total = [0,0]\n",
    "for j, gen in enumerate(['female', 'male']):\n",
    "    # r=root, d=directories, f = files\n",
    "    for r, d, f in os.walk(os.path.join(test_path, gen)):\n",
    "        for file in f:\n",
    "            if '.wav' in file:\n",
    "                files[j].append(os.path.join(r, file))\n",
    "    for f in files[j]:\n",
    "        # print(f.split(\"/\")[-1])\n",
    "        sampling_rate, audio  = read(f)\n",
    "        features   = get_MFCC(sampling_rate,audio.astype(float))\n",
    "        scores     = None\n",
    "        log_likelihood = np.zeros(len(models))\n",
    "        for i in range(len(models)):\n",
    "            gmm    = models[i]         #checking with each model one by one\n",
    "            scores = np.array(gmm.score(features))\n",
    "            log_likelihood[i] = scores.sum()\n",
    "        winner = np.argmax(log_likelihood)\n",
    "        if(winner == j):\n",
    "            true[j]+=1\n",
    "        else:\n",
    "            false[j]+=1\n",
    "        total[j]+=1\n",
    "accuracy = (sum(true)/sum(total))\n",
    "print(\"Accuracy = \", accuracy*100, \"%\")"
   ]
  },
  {
   "cell_type": "markdown",
   "metadata": {},
   "source": [
    "Now changing the parameters of the GMM to improve the accuracy of gender detection.\n",
    "You could also try recording your voice, and test if the GMM works!"
   ]
  },
  {
   "cell_type": "code",
   "execution_count": 17,
   "metadata": {},
   "outputs": [
    {
     "name": "stdout",
     "output_type": "stream",
     "text": [
      "['models/model_1/female.gmm', 'models/model_1/male.gmm']\n",
      "MALE\n"
     ]
    }
   ],
   "source": [
    "audio_file_path = 'manan.wav'\n",
    "N_gmm_components = 1\n",
    "model_path = \"models/model_\"+str(N_gmm_components)\n",
    "gmm_files = [os.path.join(model_path,fname) for fname in os.listdir(model_path) if fname.endswith('.gmm')]\n",
    "print(gmm_files)\n",
    "models = [pickle.load(open(fname,'rb')) for fname in gmm_files]\n",
    "\n",
    "dict = {0:'FEMALE', 1:'MALE'}\n",
    "sampling_rate, audio  = read(audio_file_path)\n",
    "features   = get_MFCC(sampling_rate,audio.astype(float))\n",
    "scores     = None\n",
    "log_likelihood = np.zeros(len(models))\n",
    "for i in range(len(models)):\n",
    "    gmm    = models[i]         #checking with each model one by one\n",
    "    scores = np.array(gmm.score(features))\n",
    "    log_likelihood[i] = scores.sum()\n",
    "winner = np.argmax(log_likelihood)\n",
    "print(dict[winner])"
   ]
  },
  {
   "cell_type": "code",
   "execution_count": null,
   "metadata": {},
   "outputs": [],
   "source": []
  }
 ],
 "metadata": {
  "kernelspec": {
   "display_name": "Python 3",
   "language": "python",
   "name": "python3"
  },
  "language_info": {
   "codemirror_mode": {
    "name": "ipython",
    "version": 3
   },
   "file_extension": ".py",
   "mimetype": "text/x-python",
   "name": "python",
   "nbconvert_exporter": "python",
   "pygments_lexer": "ipython3",
   "version": "3.6.7"
  }
 },
 "nbformat": 4,
 "nbformat_minor": 2
}
